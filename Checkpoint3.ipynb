{
 "cells": [
  {
   "cell_type": "markdown",
   "id": "a937f843",
   "metadata": {},
   "source": [
    "# EXERCICE1"
   ]
  },
  {
   "cell_type": "code",
   "execution_count": 3,
   "id": "0bf475f6",
   "metadata": {},
   "outputs": [],
   "source": [
    "liste1 = [2,3,6]"
   ]
  },
  {
   "cell_type": "code",
   "execution_count": 4,
   "id": "33453558",
   "metadata": {},
   "outputs": [],
   "source": [
    "def liste_multiplier(nombres):\n",
    "    produit = 1\n",
    "    for nombre in nombres:\n",
    "        produit = produit * nombre\n",
    "    return produit"
   ]
  },
  {
   "cell_type": "code",
   "execution_count": 5,
   "id": "342c0028",
   "metadata": {
    "scrolled": true
   },
   "outputs": [
    {
     "name": "stdout",
     "output_type": "stream",
     "text": [
      "36\n"
     ]
    }
   ],
   "source": [
    "print(liste_multiplier(liste1))"
   ]
  },
  {
   "cell_type": "code",
   "execution_count": 6,
   "id": "4ca83274",
   "metadata": {},
   "outputs": [],
   "source": []
  },
  {
   "cell_type": "markdown",
   "id": "549fe5fa",
   "metadata": {},
   "source": [
    "# EXERCICE2"
   ]
  },
  {
   "cell_type": "code",
   "execution_count": 4,
   "id": "c7b76883",
   "metadata": {},
   "outputs": [
    {
     "name": "stdout",
     "output_type": "stream",
     "text": [
      "[(1, 2), (2, 1), (2, 3), (2, 5), (4, 4)]\n"
     ]
    }
   ],
   "source": [
    "ma_liste =  [(2, 5), (1, 2), (4, 4), (2, 3), (2, 1)]\n",
    "ma_liste.sort()\n",
    "print ((ma_liste))"
   ]
  },
  {
   "cell_type": "markdown",
   "id": "09915060",
   "metadata": {},
   "source": [
    "# EXERCICE3"
   ]
  },
  {
   "cell_type": "code",
   "execution_count": 9,
   "id": "4af690d5",
   "metadata": {},
   "outputs": [
    {
     "ename": "TypeError",
     "evalue": "unsupported operand type(s) for +: 'dict' and 'dict'",
     "output_type": "error",
     "traceback": [
      "\u001b[1;31m---------------------------------------------------------------------------\u001b[0m",
      "\u001b[1;31mTypeError\u001b[0m                                 Traceback (most recent call last)",
      "Cell \u001b[1;32mIn[9], line 3\u001b[0m\n\u001b[0;32m      1\u001b[0m d1 \u001b[38;5;241m=\u001b[39m {\u001b[38;5;124m'\u001b[39m\u001b[38;5;124ma\u001b[39m\u001b[38;5;124m'\u001b[39m : \u001b[38;5;241m100\u001b[39m, \u001b[38;5;124m'\u001b[39m\u001b[38;5;124mb\u001b[39m\u001b[38;5;124m'\u001b[39m : \u001b[38;5;241m200\u001b[39m, \u001b[38;5;124m'\u001b[39m\u001b[38;5;124mc\u001b[39m\u001b[38;5;124m'\u001b[39m : \u001b[38;5;241m300\u001b[39m}\n\u001b[0;32m      2\u001b[0m d2 \u001b[38;5;241m=\u001b[39m {\u001b[38;5;124m'\u001b[39m\u001b[38;5;124ma\u001b[39m\u001b[38;5;124m'\u001b[39m : \u001b[38;5;241m300\u001b[39m, \u001b[38;5;124m'\u001b[39m\u001b[38;5;124mb\u001b[39m\u001b[38;5;124m'\u001b[39m : \u001b[38;5;241m200\u001b[39m, \u001b[38;5;124m'\u001b[39m\u001b[38;5;124md\u001b[39m\u001b[38;5;124m'\u001b[39m : \u001b[38;5;241m400\u001b[39m}\n\u001b[1;32m----> 3\u001b[0m d \u001b[38;5;241m=\u001b[39m \u001b[43md1\u001b[49m\u001b[43m \u001b[49m\u001b[38;5;241;43m+\u001b[39;49m\u001b[43m \u001b[49m\u001b[43md2\u001b[49m\n",
      "\u001b[1;31mTypeError\u001b[0m: unsupported operand type(s) for +: 'dict' and 'dict'"
     ]
    }
   ],
   "source": [
    "def addition_value\n",
    "d1 = {'a' : 100, 'b' : 200, 'c' : 300}\n",
    "d2 = {'a' : 300, 'b' : 200, 'd' : 400}\n"
   ]
  },
  {
   "cell_type": "code",
   "execution_count": null,
   "id": "269b3abc",
   "metadata": {},
   "outputs": [],
   "source": []
  },
  {
   "cell_type": "code",
   "execution_count": null,
   "id": "91029de9",
   "metadata": {},
   "outputs": [],
   "source": []
  }
 ],
 "metadata": {
  "kernelspec": {
   "display_name": "Python 3 (ipykernel)",
   "language": "python",
   "name": "python3"
  },
  "language_info": {
   "codemirror_mode": {
    "name": "ipython",
    "version": 3
   },
   "file_extension": ".py",
   "mimetype": "text/x-python",
   "name": "python",
   "nbconvert_exporter": "python",
   "pygments_lexer": "ipython3",
   "version": "3.10.9"
  }
 },
 "nbformat": 4,
 "nbformat_minor": 5
}
