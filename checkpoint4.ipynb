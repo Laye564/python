{
 "cells": [
  {
   "cell_type": "code",
   "execution_count": null,
   "id": "0d891367",
   "metadata": {},
   "outputs": [
    {
     "name": "stdout",
     "output_type": "stream",
     "text": [
      "veillez saisir la valeur de num1: 12\n",
      "veuillez saisir l`operateur: +\n",
      "veillez saisir la valeur de num2: 13\n",
      "num1 + num2= 25.0\n",
      "veillez saisir 0 pour continuer et 1 pour areter: 0\n",
      "veillez saisir la valeur de num1: 56\n",
      "veuillez saisir l`operateur: -\n",
      "veillez saisir la valeur de num2: 24\n",
      "num1 - num2= 0.0\n",
      "veillez saisir 0 pour continuer et 1 pour areter: 0\n",
      "veillez saisir la valeur de num1: 16\n",
      "veuillez saisir l`operateur: /\n",
      "veillez saisir la valeur de num2: 2\n",
      "num1 / num2= 8.0\n",
      "veillez saisir 0 pour continuer et 1 pour areter: 0\n",
      "veillez saisir la valeur de num1: 17\n",
      "veuillez saisir l`operateur: *\n",
      "veillez saisir la valeur de num2: 5\n",
      "num1 * num2= 85.0\n",
      "veillez saisir 0 pour continuer et 1 pour areter: 0\n",
      "veillez saisir la valeur de num1: 45\n",
      "veuillez saisir l`operateur: /\n"
     ]
    }
   ],
   "source": [
    "n=0\n",
    "while(n==0):\n",
    "    num1 = float(input(\"veillez saisir la valeur de num1: \"))\n",
    "    op = (input( \"veuillez saisir l`operateur: \" ))\n",
    "    num2 = float(input(\"veillez saisir la valeur de num2: \"))\n",
    "    if op == \"+\" :\n",
    "      print(\"num1 + num2=\",  num1+num2)\n",
    "    elif op == \"-\" :\n",
    "      print(\"num1 - num2=\", num1-num1)\n",
    "    elif op == \"/\" :\n",
    "      if num2 != 0 :\n",
    "        print(\"num1 / num2=\", num1/num2)\n",
    "      else :\n",
    "        print(\"calcul impossible\")\n",
    "    elif op == \"*\" :\n",
    "      print(\"num1 * num2=\", num1*num2)\n",
    "    else :\n",
    "      print(\"operateur incorrect\")\n",
    "    n = int(input(\"veillez saisir 0 pour continuer et 1 pour areter: \"))"
   ]
  },
  {
   "cell_type": "code",
   "execution_count": null,
   "id": "4943fade",
   "metadata": {},
   "outputs": [],
   "source": []
  },
  {
   "cell_type": "code",
   "execution_count": null,
   "id": "8f5cfd14",
   "metadata": {},
   "outputs": [],
   "source": []
  }
 ],
 "metadata": {
  "kernelspec": {
   "display_name": "Python 3 (ipykernel)",
   "language": "python",
   "name": "python3"
  },
  "language_info": {
   "codemirror_mode": {
    "name": "ipython",
    "version": 3
   },
   "file_extension": ".py",
   "mimetype": "text/x-python",
   "name": "python",
   "nbconvert_exporter": "python",
   "pygments_lexer": "ipython3",
   "version": "3.10.9"
  }
 },
 "nbformat": 4,
 "nbformat_minor": 5
}
