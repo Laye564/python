{
 "cells": [
  {
   "cell_type": "code",
   "execution_count": 14,
   "id": "9756de66",
   "metadata": {},
   "outputs": [
    {
     "name": "stdout",
     "output_type": "stream",
     "text": [
      "entrer votre supposition50\n",
      "Votre choix a été\n",
      "50\n",
      "Votre choix est inferieur \n",
      "entrer votre supposition40\n",
      "Votre choix a été\n",
      "40\n",
      "Votre choix est inferieur \n",
      "entrer votre supposition60\n",
      "Votre choix a été\n",
      "60\n",
      "Votre choix est inferieur \n",
      "entrer votre supposition70\n",
      "Votre choix a été\n",
      "70\n",
      "Votre choix est inferieur \n",
      "entrer votre supposition80\n",
      "Votre choix a été\n",
      "80\n",
      "Votre choix est inferieur \n",
      "entrer votre supposition90\n",
      "Votre choix a été\n",
      "90\n",
      "Votre choix est inferieur \n",
      "entrer votre supposition99\n",
      "Votre choix a été\n",
      "99\n",
      "Votre choix est inferieur \n",
      "entrer votre supposition100\n",
      "Votre choix a été\n",
      "100\n",
      " genial vous avez gagne \n"
     ]
    }
   ],
   "source": [
    "import random\n",
    "x= 0\n",
    "n= random.randint(1,100)\n",
    "while x != n: \n",
    "    x= int(input(\"entrer votre supposition\")) \n",
    "    print(\"Votre choix a été\")\n",
    "    print(x)\n",
    "    if x>n:\n",
    "        print(\"Votre choix est superieur \")\n",
    "    elif x<n:\n",
    "        print(\"Votre choix est inferieur \")\n",
    "    else:\n",
    "        print(\" genial vous avez gagne \")\n",
    "\n",
    " \n",
    "\n",
    "    "
   ]
  },
  {
   "cell_type": "code",
   "execution_count": null,
   "id": "322324b6",
   "metadata": {},
   "outputs": [],
   "source": []
  },
  {
   "cell_type": "code",
   "execution_count": null,
   "id": "8e2f1ab7",
   "metadata": {},
   "outputs": [],
   "source": []
  }
 ],
 "metadata": {
  "kernelspec": {
   "display_name": "Python 3 (ipykernel)",
   "language": "python",
   "name": "python3"
  },
  "language_info": {
   "codemirror_mode": {
    "name": "ipython",
    "version": 3
   },
   "file_extension": ".py",
   "mimetype": "text/x-python",
   "name": "python",
   "nbconvert_exporter": "python",
   "pygments_lexer": "ipython3",
   "version": "3.10.9"
  }
 },
 "nbformat": 4,
 "nbformat_minor": 5
}
