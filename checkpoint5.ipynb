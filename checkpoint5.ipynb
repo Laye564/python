{
 "cells": [
  {
   "cell_type": "markdown",
   "id": "0403dbae",
   "metadata": {},
   "source": [
    "# QUESTION1"
   ]
  },
  {
   "cell_type": "code",
   "execution_count": 13,
   "id": "732de1b2",
   "metadata": {},
   "outputs": [
    {
     "ename": "TypeError",
     "evalue": "Point3D.variable() takes 0 positional arguments but 1 was given",
     "output_type": "error",
     "traceback": [
      "\u001b[1;31m---------------------------------------------------------------------------\u001b[0m",
      "\u001b[1;31mTypeError\u001b[0m                                 Traceback (most recent call last)",
      "Cell \u001b[1;32mIn[13], line 10\u001b[0m\n\u001b[0;32m      7\u001b[0m         \u001b[38;5;28;01mreturn\u001b[39;00m \u001b[38;5;28mself\u001b[39m\u001b[38;5;241m.\u001b[39mx, \u001b[38;5;28mself\u001b[39m\u001b[38;5;241m.\u001b[39my, \u001b[38;5;28mself\u001b[39m\u001b[38;5;241m.\u001b[39mz\n\u001b[0;32m      9\u001b[0m mypoint\u001b[38;5;241m=\u001b[39m Point3D(\u001b[38;5;241m1\u001b[39m, \u001b[38;5;241m2\u001b[39m, \u001b[38;5;241m3\u001b[39m)\n\u001b[1;32m---> 10\u001b[0m \u001b[43mmypoint\u001b[49m\u001b[38;5;241;43m.\u001b[39;49m\u001b[43mvariable\u001b[49m\u001b[43m(\u001b[49m\u001b[43m)\u001b[49m\n",
      "\u001b[1;31mTypeError\u001b[0m: Point3D.variable() takes 0 positional arguments but 1 was given"
     ]
    }
   ],
   "source": [
    "class Point3D():\n",
    "    def __init__(self, x, y, z):\n",
    "        self.x = x\n",
    "        self.y = y\n",
    "        self.z = z\n",
    "    def variable():\n",
    "        return self.x, self.y, self.z\n",
    "\n",
    "mypoint= Point3D(1, 2, 3)\n",
    "mypoint.variable()\n",
    "\n",
    "\n",
    "   "
   ]
  },
  {
   "cell_type": "markdown",
   "id": "64ec2eca",
   "metadata": {},
   "source": [
    "# QUESTION2"
   ]
  },
  {
   "cell_type": "code",
   "execution_count": 14,
   "id": "7ecfdea8",
   "metadata": {},
   "outputs": [],
   "source": [
    "class rectangle():\n",
    "    def __init__(self,L,l):\n",
    "        self.longueur=L\n",
    "        self.largeur=l\n",
    "    def perimetre(self):\n",
    "        return 2*(self.longueur+self.largeur)\n",
    "    def surface(self):\n",
    "        return (self.longueur*self.largeur)"
   ]
  },
  {
   "cell_type": "code",
   "execution_count": 15,
   "id": "9bdd5319",
   "metadata": {},
   "outputs": [
    {
     "data": {
      "text/plain": [
       "14"
      ]
     },
     "execution_count": 15,
     "metadata": {},
     "output_type": "execute_result"
    }
   ],
   "source": [
    "my_rectangle=rectangle(4,3)\n",
    "my_rectangle.perimetre()"
   ]
  },
  {
   "cell_type": "code",
   "execution_count": 16,
   "id": "d5639ab2",
   "metadata": {},
   "outputs": [
    {
     "data": {
      "text/plain": [
       "12"
      ]
     },
     "execution_count": 16,
     "metadata": {},
     "output_type": "execute_result"
    }
   ],
   "source": [
    "my_rectangle.surface()"
   ]
  },
  {
   "cell_type": "markdown",
   "id": "b0dfd337",
   "metadata": {},
   "source": [
    "# QUESTION3"
   ]
  },
  {
   "cell_type": "code",
   "execution_count": null,
   "id": "029a2154",
   "metadata": {},
   "outputs": [],
   "source": [
    "class cercle():\n",
    "    def __init__(self,rayon):\n",
    "        self.rayon=rayon\n",
    "    def aire(self):\n",
    "        return self.rayon**2*3,14\n",
    "    def perimetre(self):\n",
    "        return self.rqyon*2*3,14"
   ]
  }
 ],
 "metadata": {
  "kernelspec": {
   "display_name": "Python 3 (ipykernel)",
   "language": "python",
   "name": "python3"
  },
  "language_info": {
   "codemirror_mode": {
    "name": "ipython",
    "version": 3
   },
   "file_extension": ".py",
   "mimetype": "text/x-python",
   "name": "python",
   "nbconvert_exporter": "python",
   "pygments_lexer": "ipython3",
   "version": "3.10.9"
  }
 },
 "nbformat": 4,
 "nbformat_minor": 5
}
